{
 "cells": [
  {
   "cell_type": "markdown",
   "id": "15a8103c-715a-4b41-8944-6c9e12e18517",
   "metadata": {},
   "source": [
    "## Binary Classification\n",
    "\n",
    "In this notebook, we will work on a binary classification using [Breast Cancer Wisconsin from UCI](https://archive.ics.uci.edu/dataset/15/breast+cancer+wisconsin+original).\n",
    "\n",
    "The steps are as follows:\n",
    "1. Exploration:\n",
    "    - [Loading](#loaddata)\n",
    "    - [Cleaning](#cleaning)\n",
    "    - [Exploring](#explore)\n",
    "2. Building the Models \n",
    "    - [Logistic Regression](#lgmodel)\n",
    "    - [Naive Bayes](#nbmodel)\n",
    "    - [SVM](#svmmodel)\n",
    "    - [KNN](#knnmodel)\n",
    "3. [Summary](#summary)"
   ]
  },
  {
   "cell_type": "code",
   "execution_count": 1,
   "id": "cf96dd15-d8d9-44e6-93a5-f5f838f678de",
   "metadata": {},
   "outputs": [],
   "source": [
    "## the general packages\n",
    "import numpy as np\n",
    "import pandas as pd\n",
    "import matplotlib.pyplot as plt\n",
    "plt.style.use('ggplot')\n",
    "## ML packages\n",
    "from sklearn.preprocessing import StandardScaler, QuantileTransformer\n",
    "from sklearn.pipeline import Pipeline\n",
    "from sklearn.model_selection import train_test_split, GridSearchCV\n",
    "from sklearn.metrics import classification_report\n",
    "from sklearn.linear_model import LogisticRegression\n",
    "from sklearn.naive_bayes import GaussianNB\n",
    "from sklearn.svm import SVC\n",
    "from sklearn.neighbors import KNeighborsClassifier\n",
    "\n",
    "## setting the random seeds for reproducibility\n",
    "RANDOM_SEED = 60\n",
    "np.random.seed(RANDOM_SEED)"
   ]
  },
  {
   "cell_type": "markdown",
   "id": "a275487d-4f57-4e55-b348-ab4472d23ebd",
   "metadata": {},
   "source": [
    "<a name='#loadexp'></a>\n",
    "### 1. Loading, Cleaning, and Exploring the Data"
   ]
  },
  {
   "cell_type": "markdown",
   "id": "943c1e33-7016-4a82-bee0-7b047a153da1",
   "metadata": {},
   "source": [
    "<a name='loaddata'></a>\n",
    "#### 1.1. Loading"
   ]
  },
  {
   "cell_type": "code",
   "execution_count": 2,
   "id": "64924f01-863b-45ef-a4ed-d656bad46d41",
   "metadata": {},
   "outputs": [
    {
     "data": {
      "text/html": [
       "<div>\n",
       "<style scoped>\n",
       "    .dataframe tbody tr th:only-of-type {\n",
       "        vertical-align: middle;\n",
       "    }\n",
       "\n",
       "    .dataframe tbody tr th {\n",
       "        vertical-align: top;\n",
       "    }\n",
       "\n",
       "    .dataframe thead th {\n",
       "        text-align: right;\n",
       "    }\n",
       "</style>\n",
       "<table border=\"1\" class=\"dataframe\">\n",
       "  <thead>\n",
       "    <tr style=\"text-align: right;\">\n",
       "      <th></th>\n",
       "      <th>Sample_code_number</th>\n",
       "      <th>Clump_thickness</th>\n",
       "      <th>Uniformity_of_cell_size</th>\n",
       "      <th>Uniformity_of_cell_shape</th>\n",
       "      <th>Marginal_adhesion</th>\n",
       "      <th>Single_epithelial_cell_size</th>\n",
       "      <th>Bare_nuclei</th>\n",
       "      <th>Bland_chromatin</th>\n",
       "      <th>Normal_nucleoli</th>\n",
       "      <th>Mitoses</th>\n",
       "      <th>Class</th>\n",
       "    </tr>\n",
       "  </thead>\n",
       "  <tbody>\n",
       "    <tr>\n",
       "      <th>0</th>\n",
       "      <td>1000025</td>\n",
       "      <td>5</td>\n",
       "      <td>1</td>\n",
       "      <td>1</td>\n",
       "      <td>1</td>\n",
       "      <td>2</td>\n",
       "      <td>1.0</td>\n",
       "      <td>3</td>\n",
       "      <td>1</td>\n",
       "      <td>1</td>\n",
       "      <td>2</td>\n",
       "    </tr>\n",
       "    <tr>\n",
       "      <th>1</th>\n",
       "      <td>1002945</td>\n",
       "      <td>5</td>\n",
       "      <td>4</td>\n",
       "      <td>4</td>\n",
       "      <td>5</td>\n",
       "      <td>7</td>\n",
       "      <td>10.0</td>\n",
       "      <td>3</td>\n",
       "      <td>2</td>\n",
       "      <td>1</td>\n",
       "      <td>2</td>\n",
       "    </tr>\n",
       "    <tr>\n",
       "      <th>2</th>\n",
       "      <td>1015425</td>\n",
       "      <td>3</td>\n",
       "      <td>1</td>\n",
       "      <td>1</td>\n",
       "      <td>1</td>\n",
       "      <td>2</td>\n",
       "      <td>2.0</td>\n",
       "      <td>3</td>\n",
       "      <td>1</td>\n",
       "      <td>1</td>\n",
       "      <td>2</td>\n",
       "    </tr>\n",
       "    <tr>\n",
       "      <th>3</th>\n",
       "      <td>1016277</td>\n",
       "      <td>6</td>\n",
       "      <td>8</td>\n",
       "      <td>8</td>\n",
       "      <td>1</td>\n",
       "      <td>3</td>\n",
       "      <td>4.0</td>\n",
       "      <td>3</td>\n",
       "      <td>7</td>\n",
       "      <td>1</td>\n",
       "      <td>2</td>\n",
       "    </tr>\n",
       "    <tr>\n",
       "      <th>4</th>\n",
       "      <td>1017023</td>\n",
       "      <td>4</td>\n",
       "      <td>1</td>\n",
       "      <td>1</td>\n",
       "      <td>3</td>\n",
       "      <td>2</td>\n",
       "      <td>1.0</td>\n",
       "      <td>3</td>\n",
       "      <td>1</td>\n",
       "      <td>1</td>\n",
       "      <td>2</td>\n",
       "    </tr>\n",
       "  </tbody>\n",
       "</table>\n",
       "</div>"
      ],
      "text/plain": [
       "   Sample_code_number  Clump_thickness  Uniformity_of_cell_size  \\\n",
       "0             1000025                5                        1   \n",
       "1             1002945                5                        4   \n",
       "2             1015425                3                        1   \n",
       "3             1016277                6                        8   \n",
       "4             1017023                4                        1   \n",
       "\n",
       "   Uniformity_of_cell_shape  Marginal_adhesion  Single_epithelial_cell_size  \\\n",
       "0                         1                  1                            2   \n",
       "1                         4                  5                            7   \n",
       "2                         1                  1                            2   \n",
       "3                         8                  1                            3   \n",
       "4                         1                  3                            2   \n",
       "\n",
       "   Bare_nuclei  Bland_chromatin  Normal_nucleoli  Mitoses  Class  \n",
       "0          1.0                3                1        1      2  \n",
       "1         10.0                3                2        1      2  \n",
       "2          2.0                3                1        1      2  \n",
       "3          4.0                3                7        1      2  \n",
       "4          1.0                3                1        1      2  "
      ]
     },
     "execution_count": 2,
     "metadata": {},
     "output_type": "execute_result"
    }
   ],
   "source": [
    "## we will be using the breast cancer data from UCI archive\n",
    "data = pd.read_csv('https://archive.ics.uci.edu/static/public/15/data.csv')\n",
    "data.head()"
   ]
  },
  {
   "cell_type": "code",
   "execution_count": 3,
   "id": "549ef70b-66d1-488c-8afd-c2bdfd32dc52",
   "metadata": {},
   "outputs": [
    {
     "name": "stdout",
     "output_type": "stream",
     "text": [
      "<class 'pandas.core.frame.DataFrame'>\n",
      "RangeIndex: 699 entries, 0 to 698\n",
      "Data columns (total 11 columns):\n",
      " #   Column                       Non-Null Count  Dtype  \n",
      "---  ------                       --------------  -----  \n",
      " 0   Sample_code_number           699 non-null    int64  \n",
      " 1   Clump_thickness              699 non-null    int64  \n",
      " 2   Uniformity_of_cell_size      699 non-null    int64  \n",
      " 3   Uniformity_of_cell_shape     699 non-null    int64  \n",
      " 4   Marginal_adhesion            699 non-null    int64  \n",
      " 5   Single_epithelial_cell_size  699 non-null    int64  \n",
      " 6   Bare_nuclei                  683 non-null    float64\n",
      " 7   Bland_chromatin              699 non-null    int64  \n",
      " 8   Normal_nucleoli              699 non-null    int64  \n",
      " 9   Mitoses                      699 non-null    int64  \n",
      " 10  Class                        699 non-null    int64  \n",
      "dtypes: float64(1), int64(10)\n",
      "memory usage: 60.2 KB\n"
     ]
    }
   ],
   "source": [
    "## checking out the types and the existence of nulls in the colums\n",
    "data.info()"
   ]
  },
  {
   "cell_type": "markdown",
   "id": "09515727-80ca-48a6-a3b7-b58dc98503fc",
   "metadata": {},
   "source": [
    "The only column with null values is the `Bare_nuclei`. The types are all `int64`, which could certainly be converted to `int8` or `int16`. \n",
    "\n",
    "The other modification can be to remove the `Sample_code_number` column, which seems to be an identifier, with no real value for our model."
   ]
  },
  {
   "cell_type": "code",
   "execution_count": 4,
   "id": "13b03375-7cce-46f4-96f1-7e9a2a7b35d6",
   "metadata": {},
   "outputs": [
    {
     "data": {
      "text/plain": [
       "Class\n",
       "2    14\n",
       "4     2\n",
       "Name: count, dtype: int64"
      ]
     },
     "execution_count": 4,
     "metadata": {},
     "output_type": "execute_result"
    }
   ],
   "source": [
    "## checking to see if the missing values\n",
    "## belong to a specific class\n",
    "data[data['Bare_nuclei'].isnull()]['Class'].value_counts()"
   ]
  },
  {
   "cell_type": "markdown",
   "id": "48802a47-6ca4-40e6-8c33-15c1b6efeca6",
   "metadata": {},
   "source": [
    "as it turned out, the majority of the missing values belong to the `2 = benign` class."
   ]
  },
  {
   "cell_type": "markdown",
   "id": "c8a30dc4-cd29-46ce-a1fd-0cb1b7943764",
   "metadata": {},
   "source": [
    "Majority of our samples are of class 2, which means we have an unbalanced dataset, and we can drop the samples with null values, since given the ditribution, they will not have a major impact on our model later on."
   ]
  },
  {
   "cell_type": "markdown",
   "id": "b5c63d4b-48b0-422f-af11-7ad18cf5ac66",
   "metadata": {},
   "source": [
    "<a name='cleaning'></a>\n",
    "#### 1.2. Cleaning"
   ]
  },
  {
   "cell_type": "code",
   "execution_count": 5,
   "id": "d09e4afe-48e8-4db2-8ab0-605fe40daabc",
   "metadata": {},
   "outputs": [
    {
     "name": "stdout",
     "output_type": "stream",
     "text": [
      "<class 'pandas.core.frame.DataFrame'>\n",
      "Index: 683 entries, 0 to 698\n",
      "Data columns (total 10 columns):\n",
      " #   Column                       Non-Null Count  Dtype\n",
      "---  ------                       --------------  -----\n",
      " 0   clump_thickness              683 non-null    int8 \n",
      " 1   uniformity_of_cell_size      683 non-null    int8 \n",
      " 2   uniformity_of_cell_shape     683 non-null    int8 \n",
      " 3   marginal_adhesion            683 non-null    int8 \n",
      " 4   single_epithelial_cell_size  683 non-null    int8 \n",
      " 5   bare_nuclei                  683 non-null    int8 \n",
      " 6   bland_chromatin              683 non-null    int8 \n",
      " 7   normal_nucleoli              683 non-null    int8 \n",
      " 8   mitoses                      683 non-null    int8 \n",
      " 9   class                        683 non-null    int8 \n",
      "dtypes: int8(10)\n",
      "memory usage: 12.0 KB\n"
     ]
    }
   ],
   "source": [
    "## some data cleaning \n",
    "def data_cleaner(df, drop_cols = None):\n",
    "    ## first, getting rid of the columns passed\n",
    "    if drop_cols:\n",
    "        df = df.drop(drop_cols, axis=1)\n",
    "    ## lowercasing the column names\n",
    "    ## and removing the extra spaces\n",
    "    df.columns = [x.strip().replace(r'\\s+', '_').lower() for x in df.columns]\n",
    "    ## removing the null values\n",
    "    df = df.dropna()\n",
    "    type_dict = {}\n",
    "    for col in df.columns:\n",
    "        if df[col].dtype == 'float64' and df[col].min() == df.astype({col:'int8'})[col].min():\n",
    "            type_dict[col] = 'int8'\n",
    "        elif df[col].dtype == 'float64' and df[col].min() == df.astype({col:'float16'})[col].min():\n",
    "            type_dict[col] = 'float16'\n",
    "        elif df[col].dtype == 'int64' and df[col].min() == df.astype({col:'int8'})[col].min():\n",
    "            type_dict[col] = 'int8'\n",
    "        elif df[col].dtype == 'int64' and df[col].min() == df.astype({col:'int16'})[col].min():\n",
    "            type_dict[col] = 'int16'\n",
    "    return df.astype(type_dict)\n",
    "cleaned_data = data_cleaner(data.copy(), drop_cols = ['Sample_code_number'])\n",
    "cleaned_data.info()"
   ]
  },
  {
   "cell_type": "markdown",
   "id": "87e38332-c188-448d-93e2-f5ba20e95eff",
   "metadata": {},
   "source": [
    "Now, we're ready for some more in-depth visualizations."
   ]
  },
  {
   "cell_type": "markdown",
   "id": "34de1394-1381-4586-8d64-b39b34ecc68d",
   "metadata": {},
   "source": [
    "<a name='explore'></a>\n",
    "#### 1.2. Exploring"
   ]
  },
  {
   "cell_type": "code",
   "execution_count": 8,
   "id": "f1ce9c3f-9099-4ce0-811b-fb16e943c1dd",
   "metadata": {},
   "outputs": [
    {
     "data": {
      "image/png": "[encoded data removed]",
      "text/plain": [
       "<Figure size 600x600 with 1 Axes>"
      ]
     },
     "metadata": {},
     "output_type": "display_data"
    }
   ],
   "source": [
    "## plotting the ditribution of the classes in our data\n",
    "class_vals = cleaned_data['class'].value_counts()\n",
    "plt.figure(figsize = (6,6))\n",
    "plt.pie(x = class_vals.values, labels = class_vals.index,\n",
    "       autopct='%1.2f%%', startangle=90);"
   ]
  },
  {
   "cell_type": "code",
   "execution_count": 9,
   "id": "f936a730-e60d-4ca3-8456-de3b17b2b430",
   "metadata": {},
   "outputs": [
    {
     "data": {
      "image/png": "[encoded data removed]",
      "text/plain": [
       "<Figure size 1000x1000 with 9 Axes>"
      ]
     },
     "metadata": {},
     "output_type": "display_data"
    }
   ],
   "source": [
    "plt.figure(figsize = (10, 10))\n",
    "c = 1\n",
    "nrows, ncols = 3, 3\n",
    "for col in cleaned_data.drop('class', axis=1).columns:\n",
    "    for l in class_vals.index:\n",
    "        plt.subplot(nrows, ncols, c)\n",
    "        plt.hist(cleaned_data[cleaned_data['class']==l][col], \n",
    "                  density=True, label=l)\n",
    "        plt.title(col)\n",
    "    c+=1\n",
    "handels, labels = plt.gca().get_legend_handles_labels()\n",
    "plt.tight_layout()\n",
    "plt.figlegend(handels, labels, bbox_to_anchor=[1.05, 1.05]);"
   ]
  },
  {
   "cell_type": "markdown",
   "id": "d31d8ffa-6562-423b-a295-7afaefdd3089",
   "metadata": {},
   "source": [
    "We do see some differences in the distribution for each class, the only feature that might be having a very similar distrivution for both classes is `mitoses`."
   ]
  },
  {
   "cell_type": "markdown",
   "id": "9a621815-9d40-4055-bc43-0b9a2711f367",
   "metadata": {},
   "source": [
    "### 2. Staring with the Model"
   ]
  },
  {
   "cell_type": "markdown",
   "id": "c9ecefc3-4fbf-4ecd-964c-e568e2d67764",
   "metadata": {},
   "source": [
    "#### 2.1 Splitting and Scaling the Data"
   ]
  },
  {
   "cell_type": "code",
   "execution_count": 10,
   "id": "de29a5dd-67bc-415d-a789-8287b66fbd68",
   "metadata": {},
   "outputs": [
    {
     "data": {
      "text/plain": [
       "((546, 9), (546,), (137, 9), (137,))"
      ]
     },
     "execution_count": 10,
     "metadata": {},
     "output_type": "execute_result"
    }
   ],
   "source": [
    "## we need to first split and then scale our data\n",
    "## we will also be changing the label values to 1 = malignant, and 0 = benign\n",
    "X, y = cleaned_data.drop('class', axis=1), (cleaned_data['class'] == 4).astype(int)\n",
    "## we will be using the stratify since our sample data is unbalanced\n",
    "X_train, X_test, y_train, y_test = train_test_split(X, y, test_size=.2, stratify=y, random_state=RANDOM_SEED)\n",
    "## and we will have to scale our feature sets\n",
    "ss = StandardScaler()\n",
    "ss.fit(X_train)\n",
    "X_train, X_test = ss.transform(X_train), ss.transform(X_test)\n",
    "X_train.shape, y_train.shape, X_test.shape, y_test.shape"
   ]
  },
  {
   "cell_type": "markdown",
   "id": "4287c5b7-a4c1-47ae-a543-86b773fb3a23",
   "metadata": {},
   "source": [
    "<a name='lgmodel'></a>\n",
    "#### 2.2. Logistic Regression\n",
    "We will start with a simple logistic regression as our first model"
   ]
  },
  {
   "cell_type": "code",
   "execution_count": 11,
   "id": "996c90b7-90d3-42b4-a962-2efd4d40f6f5",
   "metadata": {},
   "outputs": [
    {
     "data": {
      "text/plain": [
       "{'memory': None,\n",
       " 'steps': [('lg', LogisticRegression(random_state=60))],\n",
       " 'verbose': False,\n",
       " 'lg': LogisticRegression(random_state=60),\n",
       " 'lg__C': 1.0,\n",
       " 'lg__class_weight': None,\n",
       " 'lg__dual': False,\n",
       " 'lg__fit_intercept': True,\n",
       " 'lg__intercept_scaling': 1,\n",
       " 'lg__l1_ratio': None,\n",
       " 'lg__max_iter': 100,\n",
       " 'lg__multi_class': 'auto',\n",
       " 'lg__n_jobs': None,\n",
       " 'lg__penalty': 'l2',\n",
       " 'lg__random_state': 60,\n",
       " 'lg__solver': 'lbfgs',\n",
       " 'lg__tol': 0.0001,\n",
       " 'lg__verbose': 0,\n",
       " 'lg__warm_start': False}"
      ]
     },
     "execution_count": 11,
     "metadata": {},
     "output_type": "execute_result"
    }
   ],
   "source": [
    "## we want test a few hyperparameters to see how to get the best performance for our model\n",
    "## and we will create a pipeline for our model\n",
    "lg_pipe = Pipeline([('lg', LogisticRegression(random_state=RANDOM_SEED))])\n",
    "## and see the hyperparameters that we can test \n",
    "lg_pipe.get_params()"
   ]
  },
  {
   "cell_type": "code",
   "execution_count": 12,
   "id": "fe45712d-2b94-4419-b7cf-2eebbb9cec1f",
   "metadata": {},
   "outputs": [
    {
     "name": "stdout",
     "output_type": "stream",
     "text": [
      "Pipeline(steps=[('lg',\n",
      "                 LogisticRegression(class_weight={0: 1, 1: 4}, n_jobs=1,\n",
      "                                    random_state=60))])\n",
      "              precision    recall  f1-score   support\n",
      "\n",
      "           0       0.99      0.96      0.98       355\n",
      "           1       0.94      0.98      0.96       191\n",
      "\n",
      "    accuracy                           0.97       546\n",
      "   macro avg       0.96      0.97      0.97       546\n",
      "weighted avg       0.97      0.97      0.97       546\n",
      "\n"
     ]
    }
   ],
   "source": [
    "## first round of the grid search\n",
    "## trying with different weights\n",
    "params = {'lg__class_weight':[{0:1, 1:2}, {0:1, 1:3}, {0:1, 1:4}],\n",
    "          'lg__n_jobs':[1, 2, 3]\n",
    "         }\n",
    "lg_cv = GridSearchCV(lg_pipe, \n",
    "                    param_grid=params,\n",
    "                    cv = 3)\n",
    "lg_cv.fit(X_train, y_train)\n",
    "best_model = lg_cv.best_estimator_\n",
    "print(best_model)\n",
    "ypreds = best_model.predict(X_train)\n",
    "print(classification_report(y_train, ypreds))"
   ]
  },
  {
   "cell_type": "markdown",
   "id": "038d9d5c-d465-4577-a4fc-caa790361263",
   "metadata": {},
   "source": [
    "Our Logistic Regression Model performed very well with the weights of 1 for bening class and 4 for malignant."
   ]
  },
  {
   "cell_type": "markdown",
   "id": "063b3aa5-a1a9-4217-8f0d-b262b168cc31",
   "metadata": {},
   "source": [
    "<a name='nbmodel'></a>\n",
    "#### 2.3. Naive Bayes"
   ]
  },
  {
   "cell_type": "code",
   "execution_count": 13,
   "id": "60180e18-7225-448d-b39d-2ae239f1a271",
   "metadata": {},
   "outputs": [
    {
     "data": {
      "text/plain": [
       "{'memory': None,\n",
       " 'steps': [('nb', GaussianNB())],\n",
       " 'verbose': False,\n",
       " 'nb': GaussianNB(),\n",
       " 'nb__priors': None,\n",
       " 'nb__var_smoothing': 1e-09}"
      ]
     },
     "execution_count": 13,
     "metadata": {},
     "output_type": "execute_result"
    }
   ],
   "source": [
    "nb_pipe = Pipeline([('nb', GaussianNB())])\n",
    "nb_pipe.get_params()"
   ]
  },
  {
   "cell_type": "code",
   "execution_count": 14,
   "id": "db437838-9178-4343-b2cb-3b909d2e81c5",
   "metadata": {},
   "outputs": [
    {
     "name": "stdout",
     "output_type": "stream",
     "text": [
      "              precision    recall  f1-score   support\n",
      "\n",
      "           0       1.00      0.98      0.99        89\n",
      "           1       0.96      1.00      0.98        48\n",
      "\n",
      "    accuracy                           0.99       137\n",
      "   macro avg       0.98      0.99      0.98       137\n",
      "weighted avg       0.99      0.99      0.99       137\n",
      "\n"
     ]
    }
   ],
   "source": [
    "## we will not be doing any cross-validation for our Naive Bayes model\n",
    "nb_pipe.fit(X_train, y_train)\n",
    "## predicting the labels\n",
    "ypreds = nb_pipe.predict(X_test)\n",
    "print(classification_report(y_test, ypreds))"
   ]
  },
  {
   "cell_type": "markdown",
   "id": "ad2e868e-b38a-41d3-b7b7-f04119fd0413",
   "metadata": {},
   "source": [
    "Our simple Naive Bayes, using the Gaussian Distribution beat the Logistic Regression in all the scores!"
   ]
  },
  {
   "cell_type": "markdown",
   "id": "13228448-2c14-44bd-8ae8-5f3e0727cf47",
   "metadata": {},
   "source": [
    "<a name='svmmodel'></a>\n",
    "#### 2.4. Support Vector Machines"
   ]
  },
  {
   "cell_type": "code",
   "execution_count": 15,
   "id": "6d4ec53b-81b1-496e-bc4d-e9b2f54ff4e2",
   "metadata": {},
   "outputs": [
    {
     "data": {
      "text/plain": [
       "{'memory': None,\n",
       " 'steps': [('svm', SVC(random_state=60))],\n",
       " 'verbose': False,\n",
       " 'svm': SVC(random_state=60),\n",
       " 'svm__C': 1.0,\n",
       " 'svm__break_ties': False,\n",
       " 'svm__cache_size': 200,\n",
       " 'svm__class_weight': None,\n",
       " 'svm__coef0': 0.0,\n",
       " 'svm__decision_function_shape': 'ovr',\n",
       " 'svm__degree': 3,\n",
       " 'svm__gamma': 'scale',\n",
       " 'svm__kernel': 'rbf',\n",
       " 'svm__max_iter': -1,\n",
       " 'svm__probability': False,\n",
       " 'svm__random_state': 60,\n",
       " 'svm__shrinking': True,\n",
       " 'svm__tol': 0.001,\n",
       " 'svm__verbose': False}"
      ]
     },
     "execution_count": 15,
     "metadata": {},
     "output_type": "execute_result"
    }
   ],
   "source": [
    "svm_pipe = Pipeline([('svm', SVC(random_state=RANDOM_SEED))])\n",
    "svm_pipe.get_params()"
   ]
  },
  {
   "cell_type": "code",
   "execution_count": 16,
   "id": "53cc427c-e419-4340-b7ee-5b1605675441",
   "metadata": {},
   "outputs": [
    {
     "name": "stdout",
     "output_type": "stream",
     "text": [
      "Pipeline(steps=[('svm',\n",
      "                 SVC(class_weight={0: 1, 1: 4}, degree=2, random_state=60))])\n",
      "              precision    recall  f1-score   support\n",
      "\n",
      "           0       1.00      0.99      0.99        89\n",
      "           1       0.98      1.00      0.99        48\n",
      "\n",
      "    accuracy                           0.99       137\n",
      "   macro avg       0.99      0.99      0.99       137\n",
      "weighted avg       0.99      0.99      0.99       137\n",
      "\n"
     ]
    }
   ],
   "source": [
    "## we will be using the weights for our cross-validation\n",
    "params = {'svm__class_weight':[{0:1, 1:2}, {0:1, 1:3}, {0:1, 1:4}],\n",
    "         'svm__degree':[2, 3, 4]}\n",
    "svm_cv = GridSearchCV(svm_pipe,\n",
    "                    param_grid=params,\n",
    "                    cv = 3)\n",
    "svm_cv.fit(X_train, y_train)\n",
    "best_model = svm_cv.best_estimator_\n",
    "print(best_model)\n",
    "ypreds = svm_cv.predict(X_test)\n",
    "print(classification_report(y_test, ypreds))"
   ]
  },
  {
   "cell_type": "markdown",
   "id": "5d7f9b26-ef39-4309-8e81-b1a4dccd4fc6",
   "metadata": {},
   "source": [
    "The SVM Model has had the best performance so far, using the $ \\frac{1}{4} $ ratio for our weights and *degree* of 2."
   ]
  },
  {
   "cell_type": "markdown",
   "id": "4f86e1e9-d12d-4f2e-9630-8f72385e2af2",
   "metadata": {},
   "source": [
    "<a name='knnmodel'></a>\n",
    "#### 2.5. KNN Model"
   ]
  },
  {
   "cell_type": "code",
   "execution_count": 17,
   "id": "0c83bb93-dfed-4d96-bc34-10f05e3fb4b1",
   "metadata": {},
   "outputs": [
    {
     "data": {
      "text/plain": [
       "{'memory': None,\n",
       " 'steps': [('knn', KNeighborsClassifier())],\n",
       " 'verbose': False,\n",
       " 'knn': KNeighborsClassifier(),\n",
       " 'knn__algorithm': 'auto',\n",
       " 'knn__leaf_size': 30,\n",
       " 'knn__metric': 'minkowski',\n",
       " 'knn__metric_params': None,\n",
       " 'knn__n_jobs': None,\n",
       " 'knn__n_neighbors': 5,\n",
       " 'knn__p': 2,\n",
       " 'knn__weights': 'uniform'}"
      ]
     },
     "execution_count": 17,
     "metadata": {},
     "output_type": "execute_result"
    }
   ],
   "source": [
    "## our last model will be using the KNN algorithm\n",
    "knn_pipe = Pipeline([('knn', KNeighborsClassifier())])\n",
    "knn_pipe.get_params()"
   ]
  },
  {
   "cell_type": "code",
   "execution_count": 19,
   "id": "b87e5ea3-5882-4ce1-b448-e2d4fb7f28d9",
   "metadata": {},
   "outputs": [
    {
     "name": "stdout",
     "output_type": "stream",
     "text": [
      "Pipeline(steps=[('knn', KNeighborsClassifier(leaf_size=10, n_neighbors=7))])\n",
      "              precision    recall  f1-score   support\n",
      "\n",
      "           0       0.99      1.00      0.99        89\n",
      "           1       1.00      0.98      0.99        48\n",
      "\n",
      "    accuracy                           0.99       137\n",
      "   macro avg       0.99      0.99      0.99       137\n",
      "weighted avg       0.99      0.99      0.99       137\n",
      "\n"
     ]
    }
   ],
   "source": [
    "## starting with cross-validation\n",
    "params = {'knn__leaf_size':[10, 20, 30],\n",
    "         'knn__n_jobs':[None, 1, 2],\n",
    "         'knn__n_neighbors':[3, 5, 7]}\n",
    "knn_cv = GridSearchCV(knn_pipe,\n",
    "                     param_grid=params,\n",
    "                     cv = 3)\n",
    "knn_cv.fit(X_train, y_train)\n",
    "best_model = knn_cv.best_estimator_\n",
    "print(best_model)\n",
    "ypreds = best_model.predict(X_test)\n",
    "print(classification_report(y_test, ypreds))"
   ]
  },
  {
   "cell_type": "markdown",
   "id": "420d65a5-b18e-4db8-9aef-ad47d92eb433",
   "metadata": {},
   "source": [
    "<a name='summary'></a>\n",
    "### Summary\n",
    "\n",
    "All of our models performed very well (F1-score of 98-99%), but it could be due to the fact that our sample data was very small and having higher weights for our class with fewer samples helped the performance for the current models. More data and more testing will be required to examine the true accuracy of the model built in this notebook."
   ]
  },
  {
   "cell_type": "code",
   "execution_count": null,
   "id": "4125f82e-f259-4c1e-b2f1-8381a2bb8168",
   "metadata": {},
   "outputs": [],
   "source": []
  }
 ],
 "metadata": {
  "kernelspec": {
   "display_name": "Python 3 (ipykernel)",
   "language": "python",
   "name": "python3"
  },
  "language_info": {
   "codemirror_mode": {
    "name": "ipython",
    "version": 3
   },
   "file_extension": ".py",
   "mimetype": "text/x-python",
   "name": "python",
   "nbconvert_exporter": "python",
   "pygments_lexer": "ipython3",
   "version": "3.9.13"
  }
 },
 "nbformat": 4,
 "nbformat_minor": 5
}
